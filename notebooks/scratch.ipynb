{
 "cells": [
  {
   "cell_type": "code",
   "execution_count": 1,
   "metadata": {},
   "outputs": [
    {
     "name": "stdout",
     "output_type": "stream",
     "text": [
      "/work/dlclarge1/ramans-cmbrl/contextual_mbrl/logs/carl_dmc_walker_single_0_enc_obs_dec_obs_pgm_ctx_adv_normalized/42\n",
      "/work/dlclarge1/ramans-cmbrl/contextual_mbrl/logs/carl_dmc_walker_single_0_enc_obs_dec_obs_pgm_ctx_adv_normalized/908 eval.jsonl has 30 lines\n"
     ]
    }
   ],
   "source": [
    "from pathlib import Path\n",
    "\n",
    "p = Path('/work/dlclarge1/ramans-cmbrl/contextual_mbrl/logs')\n",
    "\n",
    "# iterate over the directories in path, and in each iterate over subdirectories, list which subdirectories don't have 'checkpoint.ckpt' file\n",
    "for d in p.iterdir():\n",
    "    if d.is_dir() and 'cartpole' in d.name or 'dmc' in d.name:\n",
    "        if len(list(d.iterdir())) != 10:\n",
    "            print(d, \"doesn't have 10 subdirectories\")\n",
    "            continue\n",
    "        for sd in d.iterdir():\n",
    "            if sd.is_dir():\n",
    "                if not (sd / 'checkpoint.ckpt').exists():\n",
    "                    print(sd, \"checkpoint.ckpt doesn't exist\")\n",
    "                elif not (sd / 'eval.jsonl').exists():\n",
    "                    print(sd)\n",
    "                else:\n",
    "                    with open(sd / 'eval.jsonl') as f:\n",
    "                        lines = f.readlines()\n",
    "                        if 'cartpole' in str(sd) and len(lines) != 84:\n",
    "                            print(sd, \"eval.jsonl has\", len(lines), \"lines\")\n",
    "                        elif 'walker' in str(sd) and len(lines) != 84:\n",
    "                            print(sd, \"eval.jsonl has\", len(lines), \"lines\")\n",
    "                    "
   ]
  },
  {
   "cell_type": "code",
   "execution_count": 2,
   "metadata": {},
   "outputs": [
    {
     "name": "stdout",
     "output_type": "stream",
     "text": [
      "specific_1-0.3\n",
      "specific_1-0.5\n",
      "specific_1-0.7\n",
      "specific_1-0.8\n",
      "specific_1-0.9\n",
      "specific_1-1.0\n",
      "specific_0-17.64_1-0.2\n",
      "specific_0-2.45_1-0.2\n",
      "specific_0-0.98\n",
      "specific_0-2.45\n",
      "specific_0-14.7\n",
      "specific_0-9.8\n",
      "specific_0-4.9\n",
      "specific_0-3.92\n",
      "specific_0-15.68\n",
      "specific_0-19.6\n",
      "specific_0-17.64\n",
      "specific_1-0.1\n",
      "specific_1-0.2\n",
      "specific_0-2.45_1-0.9\n",
      "specific_0-17.64_1-0.9\n",
      "\"specific_1-0.3\" \"specific_1-0.5\" \"specific_1-0.7\" \"specific_1-0.8\" \"specific_1-0.9\" \"specific_1-1.0\" \"specific_0-17.64_1-0.2\" \"specific_0-2.45_1-0.2\" \"specific_0-0.98\" \"specific_0-2.45\" \"specific_0-14.7\" \"specific_0-9.8\" \"specific_0-4.9\" \"specific_0-3.92\" \"specific_0-15.68\" \"specific_0-19.6\" \"specific_0-17.64\" \"specific_1-0.1\" \"specific_1-0.2\" \"specific_0-2.45_1-0.9\" \"specific_0-17.64_1-0.9\"\n"
     ]
    }
   ],
   "source": [
    "from pathlib import Path\n",
    "\n",
    "p = Path('/work/dlclarge1/ramans-cmbrl/contextual_mbrl/logs/specific')\n",
    "\n",
    "# iterate over the directories in path, and in each iterate over subdirectories, list which subdirectories don't have 'checkpoint.ckpt' file\n",
    "exp_prefix = \"carl_classic_cartpole_\"\n",
    "exps = []\n",
    "for d in p.iterdir():\n",
    "    if d.is_dir():\n",
    "        if exp_prefix in d.name:\n",
    "            n = d.name.split(exp_prefix)[1]\n",
    "            n = n.split(\"_enc\")[0]\n",
    "            print(n)\n",
    "            exps.append(n)\n",
    "print(\" \".join([f'\"{n}\"' for n in exps]))"
   ]
  },
  {
   "cell_type": "code",
   "execution_count": null,
   "metadata": {},
   "outputs": [],
   "source": []
  }
 ],
 "metadata": {
  "kernelspec": {
   "display_name": "c_mbrl",
   "language": "python",
   "name": "python3"
  },
  "language_info": {
   "codemirror_mode": {
    "name": "ipython",
    "version": 3
   },
   "file_extension": ".py",
   "mimetype": "text/x-python",
   "name": "python",
   "nbconvert_exporter": "python",
   "pygments_lexer": "ipython3",
   "version": "3.9.18"
  }
 },
 "nbformat": 4,
 "nbformat_minor": 2
}
